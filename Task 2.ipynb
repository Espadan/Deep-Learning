{
 "cells": [
  {
   "cell_type": "markdown",
   "metadata": {},
   "source": [
    "### mAP"
   ]
  },
  {
   "cell_type": "markdown",
   "metadata": {},
   "source": [
    "struct:\n",
    "{ { str_path, { {str_path_r_1, p_r_1}, {str_path_r_2, p_r_2}, .. {str_path_r_n, p_r_1} } }, ... }\n",
    "\n",
    "str_path\n",
    "{str_path_r_1, p_r_1}"
   ]
  },
  {
   "cell_type": "code",
   "execution_count": null,
   "metadata": {},
   "outputs": [],
   "source": []
  },
  {
   "cell_type": "code",
   "execution_count": 144,
   "metadata": {},
   "outputs": [],
   "source": [
    "import os\n",
    "import matplotlib.pyplot as plt\n",
    "%matplotlib inline  "
   ]
  },
  {
   "cell_type": "code",
   "execution_count": 116,
   "metadata": {},
   "outputs": [],
   "source": [
    "#for test mAP()\n",
    "\n",
    "str_path = \"0001_c1s1_001051_03.jpg\"\n",
    "\n",
    "str_path_r_1 = \"0006_c5s3_076037_03.jpg\"\n",
    "p_r_1 = 0.2\n",
    "str_path_r_3 = \"0006_c5s4_076037_03.jpg\"\n",
    "p_r_3 = 0.2\n",
    "str_path_r_6 = \"0006_c5s5_076037_03.jpg\"\n",
    "p_r_6 = 0.05\n",
    "\n",
    "str_path_r_2 = \"0001_c2s6_001976_03.jpg\"\n",
    "p_r_2 = 0.9\n",
    "str_path_r_4 = \"0001_c2s7_001976_03.jpg\"\n",
    "p_r_4 = 0.1\n",
    "str_path_r_5 = \"0001_c2s8_001976_03.jpg\"\n",
    "p_r_5 = 0.9\n",
    "\n"
   ]
  },
  {
   "cell_type": "code",
   "execution_count": 86,
   "metadata": {},
   "outputs": [],
   "source": [
    "rangs_list_p = []\n",
    "\n",
    "rangs_list_p.append((str_path_r_1, p_r_1))\n",
    "rangs_list_p.append((str_path_r_2, p_r_2))\n",
    "rangs_list_p.append((str_path_r_3, p_r_3))\n",
    "rangs_list_p.append((str_path_r_4, p_r_4))\n",
    "rangs_list_p.append((str_path_r_5, p_r_5))\n",
    "rangs_list_p.append((str_path_r_6, p_r_6))"
   ]
  },
  {
   "cell_type": "code",
   "execution_count": 87,
   "metadata": {
    "scrolled": true
   },
   "outputs": [
    {
     "data": {
      "text/plain": [
       "[('0006_c5s3_076037_03.jpg', 0.2),\n",
       " ('0001_c2s6_001976_03.jpg', 0.9),\n",
       " ('0006_c5s4_076037_03.jpg', 0.2),\n",
       " ('0001_c2s7_001976_03.jpg', 0.1),\n",
       " ('0001_c2s8_001976_03.jpg', 0.9),\n",
       " ('0006_c5s5_076037_03.jpg', 0.05)]"
      ]
     },
     "execution_count": 87,
     "metadata": {},
     "output_type": "execute_result"
    }
   ],
   "source": [
    "rangs_list_p"
   ]
  },
  {
   "cell_type": "code",
   "execution_count": 88,
   "metadata": {},
   "outputs": [
    {
     "data": {
      "text/plain": [
       "tuple"
      ]
     },
     "execution_count": 88,
     "metadata": {},
     "output_type": "execute_result"
    }
   ],
   "source": [
    "type(rangs_list_p[0])"
   ]
  },
  {
   "cell_type": "code",
   "execution_count": 89,
   "metadata": {},
   "outputs": [],
   "source": [
    "rangs = []\n",
    "rangs.append((str_path, rangs_list_p))"
   ]
  },
  {
   "cell_type": "code",
   "execution_count": 90,
   "metadata": {},
   "outputs": [
    {
     "data": {
      "text/plain": [
       "[('0001_c1s1_001051_03.jpg',\n",
       "  [('0006_c5s3_076037_03.jpg', 0.2),\n",
       "   ('0001_c2s6_001976_03.jpg', 0.9),\n",
       "   ('0006_c5s4_076037_03.jpg', 0.2),\n",
       "   ('0001_c2s7_001976_03.jpg', 0.1),\n",
       "   ('0001_c2s8_001976_03.jpg', 0.9),\n",
       "   ('0006_c5s5_076037_03.jpg', 0.05)])]"
      ]
     },
     "execution_count": 90,
     "metadata": {},
     "output_type": "execute_result"
    }
   ],
   "source": [
    "rangs"
   ]
  },
  {
   "cell_type": "code",
   "execution_count": 124,
   "metadata": {},
   "outputs": [],
   "source": [
    "def mAP(rangs, dir_=\"data/test/\"):\n",
    "    #{ { str_path, { {str_path_r_1, p_r_1}, {str_path_r_2, p_r_2}, .. {str_path_r_n, p_r_1} } }, ... }\n",
    "    \n",
    "    len_rangs = len(rangs)\n",
    "    sum_mAP = 0\n",
    "    \n",
    "    for rang in rangs:\n",
    "        person = rang[0].split('_')[0]\n",
    "        len_person = len(os.listdir(dir_ + person + '/'))\n",
    "        #len_person = 3 #for test\n",
    "        rang[1].sort(key=lambda tup: tup[1], reverse=True) #sort ranging\n",
    "        \n",
    "        sum_P = 0\n",
    "        i = 0\n",
    "        sum_true = 0\n",
    "        for rang_r in rang[1]:\n",
    "            i += 1\n",
    "            if rang_r[0].split('_')[0] == person:\n",
    "                sum_true += 1\n",
    "                sum_P += sum_true/i\n",
    "            #print(\"Person: \", person, rang_r[0].split('_')[0], sum_true/i)\n",
    "        #print(sum_P)\n",
    "        \n",
    "        sum_mAP += sum_P/len_person\n",
    "    return sum_mAP/len_rangs"
   ]
  },
  {
   "cell_type": "code",
   "execution_count": 118,
   "metadata": {},
   "outputs": [
    {
     "data": {
      "text/plain": [
       "0.8666666666666667"
      ]
     },
     "execution_count": 118,
     "metadata": {},
     "output_type": "execute_result"
    }
   ],
   "source": [
    "mAP(rangs) #test"
   ]
  },
  {
   "cell_type": "code",
   "execution_count": 123,
   "metadata": {},
   "outputs": [
    {
     "name": "stdout",
     "output_type": "stream",
     "text": [
      "Person:  0001 0001 1.0\n",
      "Person:  0001 0001 1.0\n",
      "Person:  0001 0006 0.6666666666666666\n",
      "Person:  0001 0006 0.5\n",
      "Person:  0001 0001 0.6\n",
      "Person:  0001 0006 0.5\n",
      "2.6\n"
     ]
    },
    {
     "data": {
      "text/plain": [
       "0.8666666666666667"
      ]
     },
     "execution_count": 123,
     "metadata": {},
     "output_type": "execute_result"
    }
   ],
   "source": [
    "mAP(rangs=rangs) #test"
   ]
  },
  {
   "cell_type": "code",
   "execution_count": 173,
   "metadata": {},
   "outputs": [],
   "source": [
    "def print_PR_curves(rangs, dir_=\"data/test/\"):\n",
    "    #{ { str_path, { {str_path_r_1, p_r_1}, {str_path_r_2, p_r_2}, .. {str_path_r_n, p_r_1} } }, ... }\n",
    "    \n",
    "    len_rangs = len(rangs)\n",
    "    \n",
    "    for rang in rangs:\n",
    "        list_P = []\n",
    "        list_R = []\n",
    "        person = rang[0].split('_')[0]\n",
    "        len_person = len(os.listdir(dir_ + person + '/'))\n",
    "        #len_person = 3 #for test\n",
    "        rang[1].sort(key=lambda tup: tup[1], reverse=True) #sort ranging\n",
    "        \n",
    "        sum_P = 0\n",
    "        i = 0\n",
    "        sum_true = 0\n",
    "        for rang_r in rang[1]:\n",
    "            i += 1\n",
    "            if rang_r[0].split('_')[0] == person:\n",
    "                sum_true += 1\n",
    "                sum_P += sum_true/i\n",
    "                list_P.append(sum_true/i)\n",
    "                list_R.append(sum_true/len_person)\n",
    "            print(\"Person: %s %s R=%.2f P=%.2f\" % (person, rang_r[0].split('_')[0], sum_true/len_person, sum_true/i))\n",
    "        \n",
    "        fig = plt.figure(figsize=(10,5))\n",
    "        ax = plt.axes()\n",
    "        plt.plot(list_R, list_P, color='red')\n",
    "        ax.set_xlabel('recall')\n",
    "        ax.set_ylabel('precision')\n",
    "        ax.set_xlim(left=-0.1, right=1.1)\n",
    "        ax.set_ylim(bottom=-0.1, top=1.1)\n",
    "        plt.show();"
   ]
  },
  {
   "cell_type": "code",
   "execution_count": 174,
   "metadata": {},
   "outputs": [
    {
     "name": "stdout",
     "output_type": "stream",
     "text": [
      "Person: 0001 0001 R=0.33 P=1.00\n",
      "Person: 0001 0001 R=0.67 P=1.00\n",
      "Person: 0001 0006 R=0.67 P=0.67\n",
      "Person: 0001 0006 R=0.67 P=0.50\n",
      "Person: 0001 0001 R=1.00 P=0.60\n",
      "Person: 0001 0006 R=1.00 P=0.50\n"
     ]
    },
    {
     "data": {
      "image/png": "[encoded data removed]",
      "text/plain": [
       "<Figure size 720x360 with 1 Axes>"
      ]
     },
     "metadata": {
      "needs_background": "light"
     },
     "output_type": "display_data"
    }
   ],
   "source": [
    "print_PR_curves(rangs)"
   ]
  }
 ],
 "metadata": {
  "kernelspec": {
   "display_name": "Python 3",
   "language": "python",
   "name": "python3"
  },
  "language_info": {
   "codemirror_mode": {
    "name": "ipython",
    "version": 3
   },
   "file_extension": ".py",
   "mimetype": "text/x-python",
   "name": "python",
   "nbconvert_exporter": "python",
   "pygments_lexer": "ipython3",
   "version": "3.7.1"
  }
 },
 "nbformat": 4,
 "nbformat_minor": 2
}
