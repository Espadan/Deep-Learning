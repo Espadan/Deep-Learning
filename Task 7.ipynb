{
 "cells": [
  {
   "cell_type": "code",
   "execution_count": 1,
   "metadata": {},
   "outputs": [
    {
     "data": {
      "text/plain": [
       "device(type='cpu')"
      ]
     },
     "execution_count": 1,
     "metadata": {},
     "output_type": "execute_result"
    }
   ],
   "source": [
    "import os\n",
    "import shutil\n",
    "from PIL import Image\n",
    "import numpy as np\n",
    "import scipy as sp\n",
    "from scipy.spatial import distance\n",
    "import time\n",
    "from tqdm import tqdm_notebook\n",
    "\n",
    "import torch\n",
    "import torch.nn as nn\n",
    "import torchvision\n",
    "import torchvision.transforms as transforms\n",
    "\n",
    "import matplotlib.pyplot as plt\n",
    "import matplotlib.image as mpimg\n",
    "%matplotlib inline\n",
    "\n",
    "# Device configuration\n",
    "#device = torch.device('cuda:0' if torch.cuda.is_available() else 'cpu') \n",
    "#NVIDIA GT 630M - 2.1 <= 3.0 !!! cuDNN error: CUDNN_STATUS_ARCH_MISMATCH\n",
    "device = torch.device('cpu')\n",
    "device"
   ]
  },
  {
   "cell_type": "code",
   "execution_count": 23,
   "metadata": {},
   "outputs": [],
   "source": [
    "dir_ = \"data\"\n",
    "market_path_train = \"/Market-1501-v15.09.15/bounding_box_train\"\n",
    "market_path_test = \"/Market-1501-v15.09.15/bounding_box_test\"\n",
    "market_path_query = \"/Market-1501-v15.09.15/query\"\n",
    "dist_market_path_train = \"/trainClasses\"\n",
    "dist_market_path_test = \"/testClasses\"\n",
    "dist_market_path_query = \"/queryClasses\"\n",
    "dist_market_path_smallTest = \"/smallTest\"\n",
    "dist_market_path_smallQuery = \"/smallQuery\"\n",
    "#files_train = os.listdir(dir_ + market_path_train)\n",
    "#files_test = os.listdir(dir_ + market_path_test)\n",
    "#files_query = os.listdir(dir_ + market_path_query)"
   ]
  },
  {
   "cell_type": "code",
   "execution_count": 24,
   "metadata": {},
   "outputs": [],
   "source": [
    "def load_train_dataset(path, batch_size=1, shuffle=False):\n",
    "    data_path = dir_ + path\n",
    "    train_dataset = torchvision.datasets.ImageFolder(\n",
    "        root=data_path,\n",
    "        transform=transforms.Compose([\n",
    "            #torchvision.transforms.RandomHorizontalFlip(),\n",
    "            torchvision.transforms.ToTensor()\n",
    "        ])\n",
    "    )\n",
    "    train_loader = torch.utils.data.DataLoader(\n",
    "        train_dataset,\n",
    "        batch_size=batch_size,\n",
    "        num_workers=0,\n",
    "        shuffle=shuffle\n",
    "    )\n",
    "    return train_loader\n",
    "\n",
    "def load_test_dataset(path, batch_size=1, shuffle=False):\n",
    "    data_path = dir_ + path\n",
    "    train_dataset = torchvision.datasets.ImageFolder(\n",
    "        root=data_path,\n",
    "        transform=torchvision.transforms.ToTensor()\n",
    "    )\n",
    "    train_loader = torch.utils.data.DataLoader(\n",
    "        train_dataset,\n",
    "        batch_size=batch_size,\n",
    "        num_workers=0,\n",
    "        shuffle=shuffle\n",
    "    )\n",
    "    return train_loader"
   ]
  },
  {
   "cell_type": "code",
   "execution_count": 85,
   "metadata": {},
   "outputs": [],
   "source": [
    "def find_distance_one(object_with_features, test_features):\n",
    "    list_dist = []\n",
    "    for index in range(len(test_features)):\n",
    "        dist_ = distance.cosine(object_with_features[1], test_features[index][1])\n",
    "        list_dist.append((test_features[index][0], dist_, index))\n",
    "    list_dist.sort(key=lambda tup: tup[1])\n",
    "    result = (object_with_features[0], list_dist, object_with_features[2])\n",
    "    return result\n",
    "\n",
    "def find_distance_all(query_features, test_features):\n",
    "    result = []\n",
    "    for i in range(len(query_features)):\n",
    "        distances_for_object = find_distance_one(object_with_features=query_features[i],\n",
    "                                                 test_features=test_features)\n",
    "        result.append(distances_for_object)\n",
    "    return result\n",
    "\n",
    "def find_distance_all_v(query_features, test_features):\n",
    "    result = []\n",
    "    for i in tqdm_notebook(range(len(query_features))):\n",
    "        distances_for_object = find_distance_one(object_with_features=query_features[i],\n",
    "                                                 test_features=test_features)\n",
    "        result.append(distances_for_object)\n",
    "    return result\n",
    "\n",
    "def mAP(rangs, path_=\"data/testClasses/\"):\n",
    "    #{ { str_path, { {str_path_r_1, p_r_1}, {str_path_r_2, p_r_2}, .. {str_path_r_n, p_r_1} } }, ... }\n",
    "\n",
    "    len_rangs = len(rangs) #751\n",
    "    #print(len_rangs)\n",
    "    sum_mAP = 0\n",
    "\n",
    "    for rang in rangs:\n",
    "        person = str(rang[0])\n",
    "        len_person = len(os.listdir(path_ + str(\"{:0>4s}\".format(person)) + '/'))\n",
    "        sum_P = 0\n",
    "        sum_true = 0\n",
    "        i = 0\n",
    "        for rang_r in rang[1]:\n",
    "            i += 1\n",
    "            if rang_r[0] == person:\n",
    "                sum_true += 1\n",
    "                sum_P += sum_true/i\n",
    "            #print(\"Person: \", person, rang_r[0].split('_')[0], sum_true/i)\n",
    "        #print(\"Person:\", person, \"len_person:\", str(len_person), \"AP =\", sum_P/len_person)\n",
    "        sum_mAP += sum_P/len_person\n",
    "    return sum_mAP/len_rangs"
   ]
  },
  {
   "cell_type": "code",
   "execution_count": 86,
   "metadata": {},
   "outputs": [],
   "source": [
    "def test_model(model, test_loader, query_loader, path_, v=False):\n",
    "    test_features = []\n",
    "    print(\"Waiting output from test_loader...\")\n",
    "    with torch.no_grad():\n",
    "        for images, labels in test_loader:\n",
    "            outputs2, outputs1 = model(images)\n",
    "            test_features.append((str(labels.tolist()[0]), outputs1, images[0].numpy()))\n",
    "    len(test_features)\n",
    "\n",
    "    query_features = []\n",
    "    print(\"Waiting output from query_loader...\")\n",
    "    with torch.no_grad():\n",
    "        for images, labels in query_loader:\n",
    "            outputs2, outputs1 = model(images)\n",
    "            query_features.append((str(labels.tolist()[0]), outputs1, images[0].numpy()))\n",
    "    len(query_features)\n",
    "    \n",
    "    print(\"Waiting mAP...\")\n",
    "    if v == False:\n",
    "        rangs = find_distance_all(query_features=query_features, test_features=test_features)\n",
    "    if v == True:\n",
    "        rangs = find_distance_all_v(query_features=query_features, test_features=test_features)\n",
    "    return mAP(rangs=rangs, path_=path_)"
   ]
  },
  {
   "cell_type": "code",
   "execution_count": 77,
   "metadata": {},
   "outputs": [],
   "source": [
    "#inplace = 3 - кол-во входных каналов (RGB)\n",
    "\n",
    "class CNN_ReID(nn.Module):\n",
    "    def __init__(self, inplanes=3, planes1=8, planes2=16, planes3=32, stride=1):\n",
    "        super(CNN_ReID, self).__init__()\n",
    "\n",
    "        self.layer1 = nn.Sequential(nn.Conv2d(inplanes, planes1, kernel_size=3, stride=1, padding=1),\n",
    "                                    nn.ReLU(),\n",
    "                                    nn.BatchNorm2d(planes1),\n",
    "                                    nn.MaxPool2d(kernel_size=2, stride=2))\n",
    "        self.layer2 = nn.Sequential(nn.Conv2d(planes1, planes2, kernel_size=3, stride=1, padding=1),\n",
    "                                    nn.ReLU(),\n",
    "                                    nn.BatchNorm2d(planes2),\n",
    "                                    nn.MaxPool2d(kernel_size=2, stride=2))\n",
    "        self.layer3 = nn.Sequential(nn.Conv2d(planes2, planes3, kernel_size=3, stride=1, padding=1),\n",
    "                                    nn.ReLU(),\n",
    "                                    nn.BatchNorm2d(planes3),\n",
    "                                    nn.MaxPool2d(kernel_size=2, stride=2))\n",
    "        #self.drop_out = nn.Dropout() \n",
    "        self.fc1 = nn.Linear(16 * 8 * planes3, 128) # 16*8*32 = 4096\n",
    "        self.fc2 = nn.Linear(128, 751) # 16*8*32 = 4096\n",
    "    def forward(self, x): \n",
    "        out = self.layer1(x) \n",
    "        out = self.layer2(out)\n",
    "        out = self.layer3(out)\n",
    "        out = out.reshape(out.size(0), -1)\n",
    "        #out = self.drop_out(out)\n",
    "        out1 = self.fc1(out)\n",
    "        out2 = self.fc2(out1)\n",
    "        return out2, out1"
   ]
  },
  {
   "cell_type": "code",
   "execution_count": 78,
   "metadata": {},
   "outputs": [],
   "source": [
    "def trainModel(num_epochs=10, weight_decay=0.001, momentum=0.9, learning_rate=0.01, name=\"model_0.ckpt\",\n",
    "               train_loader=None, test_loader=None, query_loader=None):\n",
    "    model = CNN_ReID().to(device)\n",
    "    criterion = nn.CrossEntropyLoss() # CrossEntropyLoss() объединяет и SoftMax, и кросс-энтропийную функцию потерь\n",
    "    optimizer = torch.optim.SGD(model.parameters(), lr=learning_rate, weight_decay=weight_decay, momentum=momentum)\n",
    "\n",
    "    total_step = len(train_loader)\n",
    "    loss_list = []\n",
    "    acc_list = []\n",
    "\n",
    "    best_mAP = -1\n",
    "    \n",
    "    print(\"wd =\",weight_decay, \"momentum =\", momentum, \"lr = \", learning_rate)\n",
    "    for epoch in range(num_epochs):\n",
    "        for i, (images, labels) in enumerate(train_loader):\n",
    "            images = images.to(device) \n",
    "            labels = labels.to(device)\n",
    "\n",
    "            # Прямой запуск\n",
    "            outputs2, outputs1 = model(images)\n",
    "            loss = criterion(outputs2, labels)\n",
    "            loss_list.append(loss.item())\n",
    "\n",
    "            # Обратное распространение и оптимизатор\n",
    "            optimizer.zero_grad()\n",
    "            loss.backward()\n",
    "            optimizer.step()\n",
    "\n",
    "            # Отслеживание точности\n",
    "            total = labels.size(0)\n",
    "            _, predicted = torch.max(outputs2.data, 1)\n",
    "            correct = (predicted == labels).sum().item()\n",
    "            acc_list.append(correct / total)\n",
    "            \n",
    "            if (i + 1) % (total_step-1) == 0:\n",
    "                print('Epoch [{}/{}], Step [{}/{}], Loss: {:.4f}, Accuracy: {:.8f}%'\n",
    "                      .format(epoch + 1, num_epochs, i + 1, total_step, loss.item(),\n",
    "                              (correct / total)))\n",
    "                \n",
    "        new_mAP = test_model(model=model, test_loader=test_loader, query_loader=query_loader,\n",
    "                             path_=\"data/smallTest/\")\n",
    "        if (new_mAP >= best_mAP):\n",
    "            torch.save(model.state_dict(), name)\n",
    "            best_mAP = new_mAP\n",
    "            bestEpoch = epoch\n",
    "            print(\"bestModel was found! mAP: {:.4f}, epoch: {:d}\".format(best_mAP, bestEpoch))\n",
    "                \n",
    "                \n",
    "    print(\"LOSS =\", loss.item(), \"wd =\", weight_decay, \"momentum =\",\n",
    "          momentum, \"lr =\", learning_rate, \"best_mAP =\", best_mAP, \"bestEpoch =\", bestEpoch)"
   ]
  },
  {
   "cell_type": "markdown",
   "metadata": {},
   "source": [
    "# Train"
   ]
  },
  {
   "cell_type": "code",
   "execution_count": 79,
   "metadata": {},
   "outputs": [],
   "source": [
    "train_loader = load_train_dataset(dist_market_path_train, batch_size=1000, shuffle=True)\n",
    "\n",
    "test_loader = load_test_dataset(dist_market_path_smallTest, batch_size=1, shuffle=False)\n",
    "query_loader = load_test_dataset(dist_market_path_smallQuery, batch_size=1, shuffle=False)"
   ]
  },
  {
   "cell_type": "markdown",
   "metadata": {},
   "source": [
    "without RandomHorizontalFlip()"
   ]
  },
  {
   "cell_type": "code",
   "execution_count": 80,
   "metadata": {
    "scrolled": true
   },
   "outputs": [
    {
     "name": "stdout",
     "output_type": "stream",
     "text": [
      "wd = 0.001 momentum = 0.9 lr =  0.05\n",
      "Epoch [1/10], Step [12/13], Loss: 6.2163, Accuracy: 0.03400000%\n",
      "Waiting output from test_loader...\n",
      "Waiting output from query_loader...\n",
      "Waiting mAP...\n",
      "bestModel was found! mAP: 0.2169, epoch: 0\n",
      "Epoch [2/10], Step [12/13], Loss: 5.0063, Accuracy: 0.13300000%\n",
      "Waiting output from test_loader...\n",
      "Waiting output from query_loader...\n",
      "Waiting mAP...\n",
      "bestModel was found! mAP: 0.2882, epoch: 1\n",
      "Epoch [3/10], Step [12/13], Loss: 3.5496, Accuracy: 0.33600000%\n",
      "Waiting output from test_loader...\n",
      "Waiting output from query_loader...\n",
      "Waiting mAP...\n",
      "bestModel was found! mAP: 0.3257, epoch: 2\n",
      "Epoch [4/10], Step [12/13], Loss: 2.4054, Accuracy: 0.48400000%\n",
      "Waiting output from test_loader...\n",
      "Waiting output from query_loader...\n",
      "Waiting mAP...\n",
      "bestModel was found! mAP: 0.3623, epoch: 3\n",
      "Epoch [5/10], Step [12/13], Loss: 1.4923, Accuracy: 0.65900000%\n",
      "Waiting output from test_loader...\n",
      "Waiting output from query_loader...\n",
      "Waiting mAP...\n",
      "bestModel was found! mAP: 0.3940, epoch: 4\n",
      "Epoch [6/10], Step [12/13], Loss: 0.7991, Accuracy: 0.82300000%\n",
      "Waiting output from test_loader...\n",
      "Waiting output from query_loader...\n",
      "Waiting mAP...\n",
      "bestModel was found! mAP: 0.4044, epoch: 5\n",
      "Epoch [7/10], Step [12/13], Loss: 0.4758, Accuracy: 0.90700000%\n",
      "Waiting output from test_loader...\n",
      "Waiting output from query_loader...\n",
      "Waiting mAP...\n",
      "bestModel was found! mAP: 0.4084, epoch: 6\n",
      "Epoch [8/10], Step [12/13], Loss: 0.2116, Accuracy: 0.96700000%\n",
      "Waiting output from test_loader...\n",
      "Waiting output from query_loader...\n",
      "Waiting mAP...\n",
      "Epoch [9/10], Step [12/13], Loss: 0.0776, Accuracy: 0.99800000%\n",
      "Waiting output from test_loader...\n",
      "Waiting output from query_loader...\n",
      "Waiting mAP...\n",
      "Epoch [10/10], Step [12/13], Loss: 0.0450, Accuracy: 0.99700000%\n",
      "Waiting output from test_loader...\n",
      "Waiting output from query_loader...\n",
      "Waiting mAP...\n",
      "bestModel was found! mAP: 0.4129, epoch: 9\n",
      "LOSS = 0.03756970912218094 wd = 0.001 momentum = 0.9 lr = 0.05 best_mAP = 0.41286272123111545 bestEpoch = 9\n",
      "Time =  2191.9024500846863\n"
     ]
    }
   ],
   "source": [
    "start_time = time.time()\n",
    "trainModel(num_epochs=10, weight_decay=0.001, momentum=0.9, learning_rate=0.05, name=\"model_Test_MAP_2.ckpt\",\n",
    "          train_loader=train_loader, test_loader=test_loader, query_loader=query_loader)\n",
    "print(\"Time = \", time.time() - start_time)"
   ]
  },
  {
   "cell_type": "code",
   "execution_count": 81,
   "metadata": {
    "scrolled": true
   },
   "outputs": [
    {
     "name": "stdout",
     "output_type": "stream",
     "text": [
      "wd = 0.001 momentum = 0.9 lr =  0.01\n",
      "Epoch [1/20], Step [12/13], Loss: 6.5568, Accuracy: 0.00500000%\n",
      "Waiting output from test_loader...\n",
      "Waiting output from query_loader...\n",
      "Waiting mAP...\n",
      "bestModel was found! mAP: 0.1089, epoch: 0\n",
      "Epoch [2/20], Step [12/13], Loss: 6.3617, Accuracy: 0.01400000%\n",
      "Waiting output from test_loader...\n",
      "Waiting output from query_loader...\n",
      "Waiting mAP...\n",
      "bestModel was found! mAP: 0.1390, epoch: 1\n",
      "Epoch [3/20], Step [12/13], Loss: 6.1505, Accuracy: 0.04800000%\n",
      "Waiting output from test_loader...\n",
      "Waiting output from query_loader...\n",
      "Waiting mAP...\n",
      "bestModel was found! mAP: 0.1581, epoch: 2\n",
      "Epoch [4/20], Step [12/13], Loss: 5.8743, Accuracy: 0.06100000%\n",
      "Waiting output from test_loader...\n",
      "Waiting output from query_loader...\n",
      "Waiting mAP...\n",
      "bestModel was found! mAP: 0.1755, epoch: 3\n",
      "Epoch [5/20], Step [12/13], Loss: 5.5236, Accuracy: 0.09300000%\n",
      "Waiting output from test_loader...\n",
      "Waiting output from query_loader...\n",
      "Waiting mAP...\n",
      "bestModel was found! mAP: 0.1847, epoch: 4\n",
      "Epoch [6/20], Step [12/13], Loss: 5.1945, Accuracy: 0.12900000%\n",
      "Waiting output from test_loader...\n",
      "Waiting output from query_loader...\n",
      "Waiting mAP...\n",
      "bestModel was found! mAP: 0.1943, epoch: 5\n",
      "Epoch [7/20], Step [12/13], Loss: 4.8128, Accuracy: 0.17700000%\n",
      "Waiting output from test_loader...\n",
      "Waiting output from query_loader...\n",
      "Waiting mAP...\n",
      "bestModel was found! mAP: 0.1985, epoch: 6\n",
      "Epoch [8/20], Step [12/13], Loss: 4.3752, Accuracy: 0.22100000%\n",
      "Waiting output from test_loader...\n",
      "Waiting output from query_loader...\n",
      "Waiting mAP...\n",
      "bestModel was found! mAP: 0.2055, epoch: 7\n",
      "Epoch [9/20], Step [12/13], Loss: 4.0382, Accuracy: 0.26100000%\n",
      "Waiting output from test_loader...\n",
      "Waiting output from query_loader...\n",
      "Waiting mAP...\n",
      "bestModel was found! mAP: 0.2144, epoch: 8\n",
      "Epoch [10/20], Step [12/13], Loss: 3.6003, Accuracy: 0.33200000%\n",
      "Waiting output from test_loader...\n",
      "Waiting output from query_loader...\n",
      "Waiting mAP...\n",
      "bestModel was found! mAP: 0.2158, epoch: 9\n",
      "Epoch [11/20], Step [12/13], Loss: 3.1297, Accuracy: 0.41200000%\n",
      "Waiting output from test_loader...\n",
      "Waiting output from query_loader...\n",
      "Waiting mAP...\n",
      "bestModel was found! mAP: 0.2253, epoch: 10\n",
      "Epoch [12/20], Step [12/13], Loss: 2.7686, Accuracy: 0.47800000%\n",
      "Waiting output from test_loader...\n",
      "Waiting output from query_loader...\n",
      "Waiting mAP...\n",
      "bestModel was found! mAP: 0.2385, epoch: 11\n",
      "Epoch [13/20], Step [12/13], Loss: 2.4556, Accuracy: 0.53800000%\n",
      "Waiting output from test_loader...\n",
      "Waiting output from query_loader...\n",
      "Waiting mAP...\n",
      "bestModel was found! mAP: 0.2430, epoch: 12\n",
      "Epoch [14/20], Step [12/13], Loss: 2.0175, Accuracy: 0.61200000%\n",
      "Waiting output from test_loader...\n",
      "Waiting output from query_loader...\n",
      "Waiting mAP...\n",
      "bestModel was found! mAP: 0.2472, epoch: 13\n",
      "Epoch [15/20], Step [12/13], Loss: 1.7753, Accuracy: 0.67900000%\n",
      "Waiting output from test_loader...\n",
      "Waiting output from query_loader...\n",
      "Waiting mAP...\n",
      "bestModel was found! mAP: 0.2477, epoch: 14\n",
      "Epoch [16/20], Step [12/13], Loss: 1.5122, Accuracy: 0.73400000%\n",
      "Waiting output from test_loader...\n",
      "Waiting output from query_loader...\n",
      "Waiting mAP...\n",
      "bestModel was found! mAP: 0.2536, epoch: 15\n",
      "Epoch [17/20], Step [12/13], Loss: 1.2479, Accuracy: 0.78400000%\n",
      "Waiting output from test_loader...\n",
      "Waiting output from query_loader...\n",
      "Waiting mAP...\n",
      "bestModel was found! mAP: 0.2599, epoch: 16\n",
      "Epoch [18/20], Step [12/13], Loss: 1.0209, Accuracy: 0.82000000%\n",
      "Waiting output from test_loader...\n",
      "Waiting output from query_loader...\n",
      "Waiting mAP...\n",
      "bestModel was found! mAP: 0.2636, epoch: 17\n",
      "Epoch [19/20], Step [12/13], Loss: 0.7710, Accuracy: 0.88700000%\n",
      "Waiting output from test_loader...\n",
      "Waiting output from query_loader...\n",
      "Waiting mAP...\n",
      "bestModel was found! mAP: 0.2719, epoch: 18\n",
      "Epoch [20/20], Step [12/13], Loss: 0.6929, Accuracy: 0.89900000%\n",
      "Waiting output from test_loader...\n",
      "Waiting output from query_loader...\n",
      "Waiting mAP...\n",
      "LOSS = 0.6824742555618286 wd = 0.001 momentum = 0.9 lr = 0.01 best_mAP = 0.27190602522579665 bestEpoch = 18\n",
      "Time =  4385.129902601242\n"
     ]
    }
   ],
   "source": [
    "start_time = time.time()\n",
    "trainModel(num_epochs=20, weight_decay=0.001, momentum=0.9, learning_rate=0.01, name=\"model_Test_MAP_3.ckpt\",\n",
    "          train_loader=train_loader, test_loader=test_loader, query_loader=query_loader)\n",
    "print(\"Time = \", time.time() - start_time)"
   ]
  },
  {
   "cell_type": "code",
   "execution_count": 82,
   "metadata": {},
   "outputs": [
    {
     "name": "stdout",
     "output_type": "stream",
     "text": [
      "wd = 0.001 momentum = 0.9 lr =  0.005\n",
      "Epoch [1/30], Step [12/13], Loss: 6.5853, Accuracy: 0.00200000%\n",
      "Waiting output from test_loader...\n",
      "Waiting output from query_loader...\n",
      "Waiting mAP...\n",
      "bestModel was found! mAP: 0.1452, epoch: 0\n",
      "Epoch [2/30], Step [12/13], Loss: 6.4592, Accuracy: 0.02100000%\n",
      "Waiting output from test_loader...\n",
      "Waiting output from query_loader...\n",
      "Waiting mAP...\n",
      "bestModel was found! mAP: 0.1684, epoch: 1\n",
      "Epoch [3/30], Step [12/13], Loss: 6.3513, Accuracy: 0.02600000%\n",
      "Waiting output from test_loader...\n",
      "Waiting output from query_loader...\n",
      "Waiting mAP...\n",
      "bestModel was found! mAP: 0.1944, epoch: 2\n",
      "Epoch [4/30], Step [12/13], Loss: 6.1775, Accuracy: 0.03700000%\n",
      "Waiting output from test_loader...\n",
      "Waiting output from query_loader...\n",
      "Waiting mAP...\n",
      "bestModel was found! mAP: 0.2162, epoch: 3\n",
      "Epoch [5/30], Step [12/13], Loss: 6.0818, Accuracy: 0.04900000%\n",
      "Waiting output from test_loader...\n",
      "Waiting output from query_loader...\n",
      "Waiting mAP...\n",
      "bestModel was found! mAP: 0.2368, epoch: 4\n",
      "Epoch [6/30], Step [12/13], Loss: 5.8129, Accuracy: 0.07400000%\n",
      "Waiting output from test_loader...\n",
      "Waiting output from query_loader...\n",
      "Waiting mAP...\n",
      "bestModel was found! mAP: 0.2481, epoch: 5\n",
      "Epoch [7/30], Step [12/13], Loss: 5.6892, Accuracy: 0.07600000%\n",
      "Waiting output from test_loader...\n",
      "Waiting output from query_loader...\n",
      "Waiting mAP...\n",
      "bestModel was found! mAP: 0.2548, epoch: 6\n",
      "Epoch [8/30], Step [12/13], Loss: 5.4608, Accuracy: 0.10200000%\n",
      "Waiting output from test_loader...\n",
      "Waiting output from query_loader...\n",
      "Waiting mAP...\n",
      "bestModel was found! mAP: 0.2675, epoch: 7\n",
      "Epoch [9/30], Step [12/13], Loss: 5.2389, Accuracy: 0.12300000%\n",
      "Waiting output from test_loader...\n",
      "Waiting output from query_loader...\n",
      "Waiting mAP...\n",
      "bestModel was found! mAP: 0.2745, epoch: 8\n",
      "Epoch [10/30], Step [12/13], Loss: 5.0522, Accuracy: 0.14700000%\n",
      "Waiting output from test_loader...\n",
      "Waiting output from query_loader...\n",
      "Waiting mAP...\n",
      "bestModel was found! mAP: 0.2819, epoch: 9\n",
      "Epoch [11/30], Step [12/13], Loss: 4.7656, Accuracy: 0.16600000%\n",
      "Waiting output from test_loader...\n",
      "Waiting output from query_loader...\n",
      "Waiting mAP...\n",
      "bestModel was found! mAP: 0.2861, epoch: 10\n",
      "Epoch [12/30], Step [12/13], Loss: 4.5129, Accuracy: 0.20900000%\n",
      "Waiting output from test_loader...\n",
      "Waiting output from query_loader...\n",
      "Waiting mAP...\n",
      "bestModel was found! mAP: 0.2936, epoch: 11\n",
      "Epoch [13/30], Step [12/13], Loss: 4.1668, Accuracy: 0.23800000%\n",
      "Waiting output from test_loader...\n",
      "Waiting output from query_loader...\n",
      "Waiting mAP...\n",
      "bestModel was found! mAP: 0.2995, epoch: 12\n",
      "Epoch [14/30], Step [12/13], Loss: 3.9261, Accuracy: 0.28600000%\n",
      "Waiting output from test_loader...\n",
      "Waiting output from query_loader...\n",
      "Waiting mAP...\n",
      "bestModel was found! mAP: 0.3020, epoch: 13\n",
      "Epoch [15/30], Step [12/13], Loss: 3.7621, Accuracy: 0.31400000%\n",
      "Waiting output from test_loader...\n",
      "Waiting output from query_loader...\n",
      "Waiting mAP...\n",
      "bestModel was found! mAP: 0.3133, epoch: 14\n",
      "Epoch [16/30], Step [12/13], Loss: 3.5019, Accuracy: 0.34500000%\n",
      "Waiting output from test_loader...\n",
      "Waiting output from query_loader...\n",
      "Waiting mAP...\n",
      "bestModel was found! mAP: 0.3165, epoch: 15\n",
      "Epoch [17/30], Step [12/13], Loss: 3.2320, Accuracy: 0.41300000%\n",
      "Waiting output from test_loader...\n",
      "Waiting output from query_loader...\n",
      "Waiting mAP...\n",
      "bestModel was found! mAP: 0.3263, epoch: 16\n",
      "Epoch [18/30], Step [12/13], Loss: 3.0645, Accuracy: 0.43700000%\n",
      "Waiting output from test_loader...\n",
      "Waiting output from query_loader...\n",
      "Waiting mAP...\n",
      "Epoch [19/30], Step [12/13], Loss: 2.7657, Accuracy: 0.50500000%\n",
      "Waiting output from test_loader...\n",
      "Waiting output from query_loader...\n",
      "Waiting mAP...\n",
      "bestModel was found! mAP: 0.3275, epoch: 18\n",
      "Epoch [20/30], Step [12/13], Loss: 2.5641, Accuracy: 0.52700000%\n",
      "Waiting output from test_loader...\n",
      "Waiting output from query_loader...\n",
      "Waiting mAP...\n",
      "bestModel was found! mAP: 0.3296, epoch: 19\n",
      "Epoch [21/30], Step [12/13], Loss: 2.2584, Accuracy: 0.60300000%\n",
      "Waiting output from test_loader...\n",
      "Waiting output from query_loader...\n",
      "Waiting mAP...\n",
      "bestModel was found! mAP: 0.3340, epoch: 20\n",
      "Epoch [22/30], Step [12/13], Loss: 2.1012, Accuracy: 0.62300000%\n",
      "Waiting output from test_loader...\n",
      "Waiting output from query_loader...\n",
      "Waiting mAP...\n",
      "bestModel was found! mAP: 0.3399, epoch: 21\n",
      "Epoch [23/30], Step [12/13], Loss: 2.0069, Accuracy: 0.63600000%\n",
      "Waiting output from test_loader...\n",
      "Waiting output from query_loader...\n",
      "Waiting mAP...\n",
      "bestModel was found! mAP: 0.3466, epoch: 22\n",
      "Epoch [24/30], Step [12/13], Loss: 1.8177, Accuracy: 0.67100000%\n",
      "Waiting output from test_loader...\n",
      "Waiting output from query_loader...\n",
      "Waiting mAP...\n",
      "bestModel was found! mAP: 0.3487, epoch: 23\n",
      "Epoch [25/30], Step [12/13], Loss: 1.6990, Accuracy: 0.70100000%\n",
      "Waiting output from test_loader...\n",
      "Waiting output from query_loader...\n",
      "Waiting mAP...\n",
      "bestModel was found! mAP: 0.3509, epoch: 24\n",
      "Epoch [26/30], Step [12/13], Loss: 1.4918, Accuracy: 0.73400000%\n",
      "Waiting output from test_loader...\n",
      "Waiting output from query_loader...\n",
      "Waiting mAP...\n",
      "bestModel was found! mAP: 0.3529, epoch: 25\n",
      "Epoch [27/30], Step [12/13], Loss: 1.4094, Accuracy: 0.74700000%\n",
      "Waiting output from test_loader...\n",
      "Waiting output from query_loader...\n",
      "Waiting mAP...\n",
      "bestModel was found! mAP: 0.3577, epoch: 26\n",
      "Epoch [28/30], Step [12/13], Loss: 1.2675, Accuracy: 0.79900000%\n",
      "Waiting output from test_loader...\n",
      "Waiting output from query_loader...\n",
      "Waiting mAP...\n",
      "Epoch [29/30], Step [12/13], Loss: 1.0380, Accuracy: 0.83800000%\n",
      "Waiting output from test_loader...\n",
      "Waiting output from query_loader...\n",
      "Waiting mAP...\n",
      "Epoch [30/30], Step [12/13], Loss: 0.9648, Accuracy: 0.85600000%\n",
      "Waiting output from test_loader...\n",
      "Waiting output from query_loader...\n",
      "Waiting mAP...\n",
      "LOSS = 0.9696417450904846 wd = 0.001 momentum = 0.9 lr = 0.005 best_mAP = 0.3576501226918684 bestEpoch = 26\n",
      "Time =  6633.410851716995\n"
     ]
    }
   ],
   "source": [
    "start_time = time.time()\n",
    "trainModel(num_epochs=30, weight_decay=0.001, momentum=0.9, learning_rate=0.005, name=\"model_Test_MAP_4.ckpt\",\n",
    "          train_loader=train_loader, test_loader=test_loader, query_loader=query_loader)\n",
    "print(\"Time = \", time.time() - start_time)"
   ]
  },
  {
   "cell_type": "markdown",
   "metadata": {},
   "source": [
    "# Train with Self-Attention GAN"
   ]
  },
  {
   "cell_type": "code",
   "execution_count": 49,
   "metadata": {},
   "outputs": [],
   "source": [
    "class Self_Attn(nn.Module):\n",
    "    \"\"\" Self attention Layer\"\"\"\n",
    "    def __init__(self,in_dim):\n",
    "        super(Self_Attn,self).__init__()\n",
    "        self.chanel_in = in_dim\n",
    "        \n",
    "        self.query_conv = nn.Conv2d(in_channels = in_dim , out_channels = in_dim//8 , kernel_size= 1)\n",
    "        self.key_conv = nn.Conv2d(in_channels = in_dim , out_channels = in_dim//8 , kernel_size= 1)\n",
    "        self.value_conv = nn.Conv2d(in_channels = in_dim , out_channels = in_dim , kernel_size= 1)\n",
    "        self.gamma = nn.Parameter(torch.zeros(1))\n",
    "\n",
    "        self.softmax  = nn.Softmax(dim=-1) #\n",
    "    def forward(self,x):\n",
    "        \"\"\"\n",
    "            inputs :\n",
    "                x : input feature maps( B X C X W X H)\n",
    "            returns :\n",
    "                out : self attention value + input feature \n",
    "                attention: B X N X N (N is Width*Height)\n",
    "        \"\"\"\n",
    "        m_batchsize,C,width ,height = x.size()\n",
    "        proj_query  = self.query_conv(x).view(m_batchsize,-1,width*height).permute(0,2,1) # B X CX(N)\n",
    "        proj_key =  self.key_conv(x).view(m_batchsize,-1,width*height) # B X C x (*W*H)\n",
    "        energy =  torch.bmm(proj_query,proj_key) # transpose check\n",
    "        attention = self.softmax(energy) # BX (N) X (N) \n",
    "        proj_value = self.value_conv(x).view(m_batchsize,-1,width*height) # B X C X N\n",
    "\n",
    "        out = torch.bmm(proj_value,attention.permute(0,2,1) )\n",
    "        out = out.view(m_batchsize,C,width,height)\n",
    "        \n",
    "        out = self.gamma*out + x\n",
    "        return out"
   ]
  },
  {
   "cell_type": "code",
   "execution_count": 54,
   "metadata": {},
   "outputs": [],
   "source": [
    "#inplace = 3 - кол-во входных каналов (RGB)\n",
    "\n",
    "class CNN_ReID_SAGAN(nn.Module):\n",
    "    def __init__(self, inplanes=3, planes1=8, planes2=16, planes3=32, stride=1):\n",
    "        super(CNN_ReID_SAGAN, self).__init__()\n",
    "\n",
    "        self.layer1 = nn.Sequential(nn.Conv2d(inplanes, planes1, kernel_size=3, stride=1, padding=1),\n",
    "                                    nn.ReLU(),\n",
    "                                    nn.BatchNorm2d(planes1),\n",
    "                                    nn.MaxPool2d(kernel_size=2, stride=2))\n",
    "        self.layer2 = nn.Sequential(nn.Conv2d(planes1, planes2, kernel_size=3, stride=1, padding=1),\n",
    "                                    nn.ReLU(),\n",
    "                                    nn.BatchNorm2d(planes2),\n",
    "                                    nn.MaxPool2d(kernel_size=2, stride=2))\n",
    "        self.layer3 = nn.Sequential(nn.Conv2d(planes2, planes3, kernel_size=3, stride=1, padding=1),\n",
    "                                    Self_Attn(planes3),\n",
    "                                    nn.ReLU(),\n",
    "                                    nn.BatchNorm2d(planes3),\n",
    "                                    nn.MaxPool2d(kernel_size=2, stride=2))\n",
    "        #self.drop_out = nn.Dropout() \n",
    "        self.fc1 = nn.Linear(16 * 8 * planes3, 128) # 16*8*32 = 4096\n",
    "        self.fc2 = nn.Linear(128, 751) # 16*8*32 = 4096\n",
    "    def forward(self, x): \n",
    "        out = self.layer1(x) \n",
    "        out = self.layer2(out)\n",
    "        out = self.layer3(out)\n",
    "        out = out.reshape(out.size(0), -1)\n",
    "        #out = self.drop_out(out)\n",
    "        out1 = self.fc1(out)\n",
    "        out2 = self.fc2(out1)\n",
    "        return out2, out1"
   ]
  },
  {
   "cell_type": "code",
   "execution_count": 55,
   "metadata": {},
   "outputs": [],
   "source": [
    "def trainModel_SAGAN(num_epochs=10, weight_decay=0.001, momentum=0.9, learning_rate=0.01, name=\"model_0.ckpt\",\n",
    "               train_loader=None, test_loader=None, query_loader=None):\n",
    "    model = CNN_ReID_SAGAN().to(device)\n",
    "    criterion = nn.CrossEntropyLoss() # CrossEntropyLoss() объединяет и SoftMax, и кросс-энтропийную функцию потерь\n",
    "    optimizer = torch.optim.SGD(model.parameters(), lr=learning_rate, weight_decay=weight_decay, momentum=momentum)\n",
    "\n",
    "    total_step = len(train_loader)\n",
    "    loss_list = []\n",
    "    acc_list = []\n",
    "\n",
    "    best_mAP = -1\n",
    "    \n",
    "    print(\"wd =\",weight_decay, \"momentum =\", momentum, \"lr = \", learning_rate)\n",
    "    for epoch in range(num_epochs):\n",
    "        for i, (images, labels) in enumerate(train_loader):\n",
    "            images = images.to(device) \n",
    "            labels = labels.to(device)\n",
    "\n",
    "            # Прямой запуск\n",
    "            outputs2, outputs1 = model(images)\n",
    "            loss = criterion(outputs2, labels)\n",
    "            loss_list.append(loss.item())\n",
    "\n",
    "            # Обратное распространение и оптимизатор\n",
    "            optimizer.zero_grad()\n",
    "            loss.backward()\n",
    "            optimizer.step()\n",
    "\n",
    "            # Отслеживание точности\n",
    "            total = labels.size(0)\n",
    "            _, predicted = torch.max(outputs2.data, 1)\n",
    "            correct = (predicted == labels).sum().item()\n",
    "            acc_list.append(correct / total)\n",
    "            \n",
    "            if (i + 1) % (total_step-1) == 0:\n",
    "                print('Epoch [{}/{}], Step [{}/{}], Loss: {:.4f}, Accuracy: {:.8f}%'\n",
    "                      .format(epoch + 1, num_epochs, i + 1, total_step, loss.item(),\n",
    "                              (correct / total)))\n",
    "                \n",
    "        new_mAP = test_model(model=model, test_loader=test_loader, query_loader=query_loader,\n",
    "                             path_=\"data/smallTest/\")\n",
    "        if (new_mAP >= best_mAP):\n",
    "            torch.save(model.state_dict(), name)\n",
    "            best_mAP = new_mAP\n",
    "            bestEpoch = epoch\n",
    "            print(\"bestModel was found! mAP: {:.4f}, epoch: {:d}\".format(best_mAP, bestEpoch))\n",
    "                \n",
    "                \n",
    "    print(\"LOSS =\", loss.item(), \"wd =\", weight_decay, \"momentum =\",\n",
    "          momentum, \"lr =\", learning_rate, \"best_mAP =\", best_mAP, \"bestEpoch =\", bestEpoch)"
   ]
  },
  {
   "cell_type": "code",
   "execution_count": null,
   "metadata": {},
   "outputs": [],
   "source": []
  },
  {
   "cell_type": "code",
   "execution_count": 72,
   "metadata": {},
   "outputs": [],
   "source": [
    "train_loader = load_train_dataset(dist_market_path_train, batch_size=500, shuffle=True)\n",
    "\n",
    "test_loader = load_test_dataset(dist_market_path_smallTest, batch_size=1, shuffle=False)\n",
    "query_loader = load_test_dataset(dist_market_path_smallQuery, batch_size=1, shuffle=False)"
   ]
  },
  {
   "cell_type": "code",
   "execution_count": 74,
   "metadata": {
    "scrolled": true
   },
   "outputs": [
    {
     "name": "stdout",
     "output_type": "stream",
     "text": [
      "wd = 0.001 momentum = 0.9 lr =  0.05\n",
      "Epoch [1/10], Step [25/26], Loss: 5.8638, Accuracy: 0.04600000%\n",
      "Waiting output from test_loader...\n",
      "Waiting output from query_loader...\n",
      "Waiting mAP...\n",
      "bestModel was found! mAP: 0.2051, epoch: 0\n",
      "Epoch [2/10], Step [25/26], Loss: 3.8071, Accuracy: 0.25400000%\n",
      "Waiting output from test_loader...\n",
      "Waiting output from query_loader...\n",
      "Waiting mAP...\n",
      "bestModel was found! mAP: 0.3046, epoch: 1\n",
      "Epoch [3/10], Step [25/26], Loss: 2.0473, Accuracy: 0.55800000%\n",
      "Waiting output from test_loader...\n",
      "Waiting output from query_loader...\n",
      "Waiting mAP...\n",
      "bestModel was found! mAP: 0.3477, epoch: 2\n",
      "Epoch [4/10], Step [25/26], Loss: 1.1170, Accuracy: 0.72800000%\n",
      "Waiting output from test_loader...\n",
      "Waiting output from query_loader...\n",
      "Waiting mAP...\n",
      "bestModel was found! mAP: 0.3706, epoch: 3\n",
      "Epoch [5/10], Step [25/26], Loss: 0.4242, Accuracy: 0.89400000%\n",
      "Waiting output from test_loader...\n",
      "Waiting output from query_loader...\n",
      "Waiting mAP...\n",
      "bestModel was found! mAP: 0.3767, epoch: 4\n",
      "Epoch [6/10], Step [25/26], Loss: 0.1388, Accuracy: 0.97600000%\n",
      "Waiting output from test_loader...\n",
      "Waiting output from query_loader...\n",
      "Waiting mAP...\n",
      "bestModel was found! mAP: 0.3772, epoch: 5\n",
      "Epoch [7/10], Step [25/26], Loss: 0.0315, Accuracy: 0.99800000%\n",
      "Waiting output from test_loader...\n",
      "Waiting output from query_loader...\n",
      "Waiting mAP...\n",
      "bestModel was found! mAP: 0.3780, epoch: 6\n",
      "Epoch [8/10], Step [25/26], Loss: 0.0180, Accuracy: 1.00000000%\n",
      "Waiting output from test_loader...\n",
      "Waiting output from query_loader...\n",
      "Waiting mAP...\n",
      "bestModel was found! mAP: 0.3799, epoch: 7\n",
      "Epoch [9/10], Step [25/26], Loss: 0.0093, Accuracy: 1.00000000%\n",
      "Waiting output from test_loader...\n",
      "Waiting output from query_loader...\n",
      "Waiting mAP...\n",
      "bestModel was found! mAP: 0.3813, epoch: 8\n",
      "Epoch [10/10], Step [25/26], Loss: 0.0098, Accuracy: 1.00000000%\n",
      "Waiting output from test_loader...\n",
      "Waiting output from query_loader...\n",
      "Waiting mAP...\n",
      "bestModel was found! mAP: 0.3826, epoch: 9\n",
      "LOSS = 0.009911666624248028 wd = 0.001 momentum = 0.9 lr = 0.05 best_mAP = 0.3825725562214663 bestEpoch = 9\n",
      "Time =  3510.4207661151886\n"
     ]
    }
   ],
   "source": [
    "start_time = time.time()\n",
    "trainModel(num_epochs=10, weight_decay=0.001, momentum=0.9, learning_rate=0.05, name=\"model_Test_SAGAN_MAP_2.ckpt\",\n",
    "          train_loader=train_loader, test_loader=test_loader, query_loader=query_loader)\n",
    "print(\"Time = \", time.time() - start_time)"
   ]
  },
  {
   "cell_type": "code",
   "execution_count": 75,
   "metadata": {
    "scrolled": true
   },
   "outputs": [
    {
     "name": "stdout",
     "output_type": "stream",
     "text": [
      "wd = 0.001 momentum = 0.9 lr =  0.01\n",
      "Epoch [1/20], Step [25/26], Loss: 6.4061, Accuracy: 0.02200000%\n",
      "Waiting output from test_loader...\n",
      "Waiting output from query_loader...\n",
      "Waiting mAP...\n",
      "bestModel was found! mAP: 0.2012, epoch: 0\n",
      "Epoch [2/20], Step [25/26], Loss: 5.6999, Accuracy: 0.07000000%\n",
      "Waiting output from test_loader...\n",
      "Waiting output from query_loader...\n",
      "Waiting mAP...\n",
      "bestModel was found! mAP: 0.2465, epoch: 1\n",
      "Epoch [3/20], Step [25/26], Loss: 4.9327, Accuracy: 0.16400000%\n",
      "Waiting output from test_loader...\n",
      "Waiting output from query_loader...\n",
      "Waiting mAP...\n",
      "bestModel was found! mAP: 0.2685, epoch: 2\n",
      "Epoch [4/20], Step [25/26], Loss: 4.1648, Accuracy: 0.23800000%\n",
      "Waiting output from test_loader...\n",
      "Waiting output from query_loader...\n",
      "Waiting mAP...\n",
      "bestModel was found! mAP: 0.3016, epoch: 3\n",
      "Epoch [5/20], Step [25/26], Loss: 3.5450, Accuracy: 0.30800000%\n",
      "Waiting output from test_loader...\n",
      "Waiting output from query_loader...\n",
      "Waiting mAP...\n",
      "bestModel was found! mAP: 0.3259, epoch: 4\n",
      "Epoch [6/20], Step [25/26], Loss: 2.6037, Accuracy: 0.48800000%\n",
      "Waiting output from test_loader...\n",
      "Waiting output from query_loader...\n",
      "Waiting mAP...\n",
      "bestModel was found! mAP: 0.3482, epoch: 5\n",
      "Epoch [7/20], Step [25/26], Loss: 1.8998, Accuracy: 0.61800000%\n",
      "Waiting output from test_loader...\n",
      "Waiting output from query_loader...\n",
      "Waiting mAP...\n",
      "bestModel was found! mAP: 0.3642, epoch: 6\n",
      "Epoch [8/20], Step [25/26], Loss: 1.2591, Accuracy: 0.73400000%\n",
      "Waiting output from test_loader...\n",
      "Waiting output from query_loader...\n",
      "Waiting mAP...\n",
      "bestModel was found! mAP: 0.3792, epoch: 7\n",
      "Epoch [9/20], Step [25/26], Loss: 0.9193, Accuracy: 0.82600000%\n",
      "Waiting output from test_loader...\n",
      "Waiting output from query_loader...\n",
      "Waiting mAP...\n",
      "bestModel was found! mAP: 0.3847, epoch: 8\n",
      "Epoch [10/20], Step [25/26], Loss: 0.7421, Accuracy: 0.86400000%\n",
      "Waiting output from test_loader...\n",
      "Waiting output from query_loader...\n",
      "Waiting mAP...\n",
      "bestModel was found! mAP: 0.3876, epoch: 9\n",
      "Epoch [11/20], Step [25/26], Loss: 0.4516, Accuracy: 0.92600000%\n",
      "Waiting output from test_loader...\n",
      "Waiting output from query_loader...\n",
      "Waiting mAP...\n",
      "bestModel was found! mAP: 0.3879, epoch: 10\n",
      "Epoch [12/20], Step [25/26], Loss: 0.2902, Accuracy: 0.97000000%\n",
      "Waiting output from test_loader...\n",
      "Waiting output from query_loader...\n",
      "Waiting mAP...\n",
      "bestModel was found! mAP: 0.3908, epoch: 11\n",
      "Epoch [13/20], Step [25/26], Loss: 0.1679, Accuracy: 0.99600000%\n",
      "Waiting output from test_loader...\n",
      "Waiting output from query_loader...\n",
      "Waiting mAP...\n",
      "bestModel was found! mAP: 0.3912, epoch: 12\n",
      "Epoch [14/20], Step [25/26], Loss: 0.1290, Accuracy: 0.99600000%\n",
      "Waiting output from test_loader...\n",
      "Waiting output from query_loader...\n",
      "Waiting mAP...\n",
      "bestModel was found! mAP: 0.3935, epoch: 13\n",
      "Epoch [15/20], Step [25/26], Loss: 0.0993, Accuracy: 0.99600000%\n",
      "Waiting output from test_loader...\n",
      "Waiting output from query_loader...\n",
      "Waiting mAP...\n",
      "bestModel was found! mAP: 0.3937, epoch: 14\n",
      "Epoch [16/20], Step [25/26], Loss: 0.0766, Accuracy: 0.99800000%\n",
      "Waiting output from test_loader...\n",
      "Waiting output from query_loader...\n",
      "Waiting mAP...\n",
      "Epoch [17/20], Step [25/26], Loss: 0.0525, Accuracy: 1.00000000%\n",
      "Waiting output from test_loader...\n",
      "Waiting output from query_loader...\n",
      "Waiting mAP...\n",
      "bestModel was found! mAP: 0.3941, epoch: 16\n",
      "Epoch [18/20], Step [25/26], Loss: 0.0479, Accuracy: 1.00000000%\n",
      "Waiting output from test_loader...\n",
      "Waiting output from query_loader...\n",
      "Waiting mAP...\n",
      "bestModel was found! mAP: 0.3948, epoch: 17\n",
      "Epoch [19/20], Step [25/26], Loss: 0.0390, Accuracy: 1.00000000%\n",
      "Waiting output from test_loader...\n",
      "Waiting output from query_loader...\n",
      "Waiting mAP...\n",
      "bestModel was found! mAP: 0.3951, epoch: 18\n",
      "Epoch [20/20], Step [25/26], Loss: 0.0360, Accuracy: 1.00000000%\n",
      "Waiting output from test_loader...\n",
      "Waiting output from query_loader...\n",
      "Waiting mAP...\n",
      "bestModel was found! mAP: 0.3965, epoch: 19\n",
      "LOSS = 0.03771777078509331 wd = 0.001 momentum = 0.9 lr = 0.01 best_mAP = 0.39653288130709086 bestEpoch = 19\n",
      "Time =  7081.1784381866455\n"
     ]
    }
   ],
   "source": [
    "start_time = time.time()\n",
    "trainModel(num_epochs=20, weight_decay=0.001, momentum=0.9, learning_rate=0.01, name=\"model_Test_SAGAN_MAP_3.ckpt\",\n",
    "          train_loader=train_loader, test_loader=test_loader, query_loader=query_loader)\n",
    "print(\"Time = \", time.time() - start_time)"
   ]
  },
  {
   "cell_type": "code",
   "execution_count": 76,
   "metadata": {
    "scrolled": true
   },
   "outputs": [
    {
     "name": "stdout",
     "output_type": "stream",
     "text": [
      "wd = 0.001 momentum = 0.9 lr =  0.005\n",
      "Epoch [1/30], Step [25/26], Loss: 6.4419, Accuracy: 0.01800000%\n",
      "Waiting output from test_loader...\n",
      "Waiting output from query_loader...\n",
      "Waiting mAP...\n",
      "bestModel was found! mAP: 0.1993, epoch: 0\n",
      "Epoch [2/30], Step [25/26], Loss: 6.1663, Accuracy: 0.04400000%\n",
      "Waiting output from test_loader...\n",
      "Waiting output from query_loader...\n",
      "Waiting mAP...\n",
      "bestModel was found! mAP: 0.2679, epoch: 1\n",
      "Epoch [3/30], Step [25/26], Loss: 5.6911, Accuracy: 0.10200000%\n",
      "Waiting output from test_loader...\n",
      "Waiting output from query_loader...\n",
      "Waiting mAP...\n",
      "bestModel was found! mAP: 0.3049, epoch: 2\n",
      "Epoch [4/30], Step [25/26], Loss: 5.2847, Accuracy: 0.12400000%\n",
      "Waiting output from test_loader...\n",
      "Waiting output from query_loader...\n",
      "Waiting mAP...\n",
      "bestModel was found! mAP: 0.3275, epoch: 3\n",
      "Epoch [5/30], Step [25/26], Loss: 4.7594, Accuracy: 0.19800000%\n",
      "Waiting output from test_loader...\n",
      "Waiting output from query_loader...\n",
      "Waiting mAP...\n",
      "bestModel was found! mAP: 0.3363, epoch: 4\n",
      "Epoch [6/30], Step [25/26], Loss: 4.2232, Accuracy: 0.25400000%\n",
      "Waiting output from test_loader...\n",
      "Waiting output from query_loader...\n",
      "Waiting mAP...\n",
      "bestModel was found! mAP: 0.3524, epoch: 5\n",
      "Epoch [7/30], Step [25/26], Loss: 3.6319, Accuracy: 0.33200000%\n",
      "Waiting output from test_loader...\n",
      "Waiting output from query_loader...\n",
      "Waiting mAP...\n",
      "bestModel was found! mAP: 0.3558, epoch: 6\n",
      "Epoch [8/30], Step [25/26], Loss: 3.1206, Accuracy: 0.42800000%\n",
      "Waiting output from test_loader...\n",
      "Waiting output from query_loader...\n",
      "Waiting mAP...\n",
      "bestModel was found! mAP: 0.3673, epoch: 7\n",
      "Epoch [9/30], Step [25/26], Loss: 2.6668, Accuracy: 0.48800000%\n",
      "Waiting output from test_loader...\n",
      "Waiting output from query_loader...\n",
      "Waiting mAP...\n",
      "bestModel was found! mAP: 0.3704, epoch: 8\n",
      "Epoch [10/30], Step [25/26], Loss: 2.2164, Accuracy: 0.58200000%\n",
      "Waiting output from test_loader...\n",
      "Waiting output from query_loader...\n",
      "Waiting mAP...\n",
      "bestModel was found! mAP: 0.3745, epoch: 9\n",
      "Epoch [11/30], Step [25/26], Loss: 1.7968, Accuracy: 0.68000000%\n",
      "Waiting output from test_loader...\n",
      "Waiting output from query_loader...\n",
      "Waiting mAP...\n",
      "bestModel was found! mAP: 0.3835, epoch: 10\n",
      "Epoch [12/30], Step [25/26], Loss: 1.5536, Accuracy: 0.69200000%\n",
      "Waiting output from test_loader...\n",
      "Waiting output from query_loader...\n",
      "Waiting mAP...\n",
      "bestModel was found! mAP: 0.3853, epoch: 11\n",
      "Epoch [13/30], Step [25/26], Loss: 1.2200, Accuracy: 0.77600000%\n",
      "Waiting output from test_loader...\n",
      "Waiting output from query_loader...\n",
      "Waiting mAP...\n",
      "bestModel was found! mAP: 0.3936, epoch: 12\n",
      "Epoch [14/30], Step [25/26], Loss: 0.9730, Accuracy: 0.83800000%\n",
      "Waiting output from test_loader...\n",
      "Waiting output from query_loader...\n",
      "Waiting mAP...\n",
      "Epoch [15/30], Step [25/26], Loss: 0.9020, Accuracy: 0.84600000%\n",
      "Waiting output from test_loader...\n",
      "Waiting output from query_loader...\n",
      "Waiting mAP...\n",
      "Epoch [16/30], Step [25/26], Loss: 0.7340, Accuracy: 0.87600000%\n",
      "Waiting output from test_loader...\n",
      "Waiting output from query_loader...\n",
      "Waiting mAP...\n",
      "bestModel was found! mAP: 0.3948, epoch: 15\n",
      "Epoch [17/30], Step [25/26], Loss: 0.5602, Accuracy: 0.91400000%\n",
      "Waiting output from test_loader...\n",
      "Waiting output from query_loader...\n",
      "Waiting mAP...\n",
      "bestModel was found! mAP: 0.4007, epoch: 16\n",
      "Epoch [18/30], Step [25/26], Loss: 0.4832, Accuracy: 0.94000000%\n",
      "Waiting output from test_loader...\n",
      "Waiting output from query_loader...\n",
      "Waiting mAP...\n",
      "Epoch [19/30], Step [25/26], Loss: 0.4384, Accuracy: 0.93600000%\n",
      "Waiting output from test_loader...\n",
      "Waiting output from query_loader...\n",
      "Waiting mAP...\n",
      "Epoch [20/30], Step [25/26], Loss: 0.3437, Accuracy: 0.96000000%\n",
      "Waiting output from test_loader...\n",
      "Waiting output from query_loader...\n",
      "Waiting mAP...\n",
      "Epoch [21/30], Step [25/26], Loss: 0.2717, Accuracy: 0.97600000%\n",
      "Waiting output from test_loader...\n",
      "Waiting output from query_loader...\n",
      "Waiting mAP...\n",
      "Epoch [22/30], Step [25/26], Loss: 0.2048, Accuracy: 0.99600000%\n",
      "Waiting output from test_loader...\n",
      "Waiting output from query_loader...\n",
      "Waiting mAP...\n",
      "Epoch [23/30], Step [25/26], Loss: 0.1652, Accuracy: 0.99600000%\n",
      "Waiting output from test_loader...\n",
      "Waiting output from query_loader...\n",
      "Waiting mAP...\n",
      "bestModel was found! mAP: 0.4032, epoch: 22\n",
      "Epoch [24/30], Step [25/26], Loss: 0.1604, Accuracy: 0.99200000%\n",
      "Waiting output from test_loader...\n",
      "Waiting output from query_loader...\n",
      "Waiting mAP...\n",
      "Epoch [25/30], Step [25/26], Loss: 0.1051, Accuracy: 0.99800000%\n",
      "Waiting output from test_loader...\n",
      "Waiting output from query_loader...\n",
      "Waiting mAP...\n",
      "Epoch [26/30], Step [25/26], Loss: 0.1105, Accuracy: 0.99800000%\n",
      "Waiting output from test_loader...\n",
      "Waiting output from query_loader...\n",
      "Waiting mAP...\n",
      "Epoch [27/30], Step [25/26], Loss: 0.1013, Accuracy: 0.99600000%\n",
      "Waiting output from test_loader...\n",
      "Waiting output from query_loader...\n",
      "Waiting mAP...\n",
      "Epoch [28/30], Step [25/26], Loss: 0.0763, Accuracy: 1.00000000%\n",
      "Waiting output from test_loader...\n",
      "Waiting output from query_loader...\n",
      "Waiting mAP...\n",
      "Epoch [29/30], Step [25/26], Loss: 0.0667, Accuracy: 1.00000000%\n",
      "Waiting output from test_loader...\n",
      "Waiting output from query_loader...\n",
      "Waiting mAP...\n",
      "Epoch [30/30], Step [25/26], Loss: 0.0655, Accuracy: 1.00000000%\n",
      "Waiting output from test_loader...\n",
      "Waiting output from query_loader...\n",
      "Waiting mAP...\n",
      "LOSS = 0.0726914256811142 wd = 0.001 momentum = 0.9 lr = 0.005 best_mAP = 0.40316959583658113 bestEpoch = 22\n",
      "Time =  10704.793003082275\n"
     ]
    }
   ],
   "source": [
    "start_time = time.time()\n",
    "trainModel(num_epochs=30, weight_decay=0.001, momentum=0.9, learning_rate=0.005, name=\"model_Test_SAGAN_MAP_4.ckpt\",\n",
    "          train_loader=train_loader, test_loader=test_loader, query_loader=query_loader)\n",
    "print(\"Time = \", time.time() - start_time)"
   ]
  },
  {
   "cell_type": "markdown",
   "metadata": {},
   "source": [
    "# Test for models"
   ]
  },
  {
   "cell_type": "markdown",
   "metadata": {},
   "source": [
    "### model_Test_SAGAN_MAP_2.ckpt"
   ]
  },
  {
   "cell_type": "code",
   "execution_count": 83,
   "metadata": {},
   "outputs": [
    {
     "data": {
      "text/plain": [
       "CNN_ReID_SAGAN(\n",
       "  (layer1): Sequential(\n",
       "    (0): Conv2d(3, 8, kernel_size=(3, 3), stride=(1, 1), padding=(1, 1))\n",
       "    (1): ReLU()\n",
       "    (2): BatchNorm2d(8, eps=1e-05, momentum=0.1, affine=True, track_running_stats=True)\n",
       "    (3): MaxPool2d(kernel_size=2, stride=2, padding=0, dilation=1, ceil_mode=False)\n",
       "  )\n",
       "  (layer2): Sequential(\n",
       "    (0): Conv2d(8, 16, kernel_size=(3, 3), stride=(1, 1), padding=(1, 1))\n",
       "    (1): ReLU()\n",
       "    (2): BatchNorm2d(16, eps=1e-05, momentum=0.1, affine=True, track_running_stats=True)\n",
       "    (3): MaxPool2d(kernel_size=2, stride=2, padding=0, dilation=1, ceil_mode=False)\n",
       "  )\n",
       "  (layer3): Sequential(\n",
       "    (0): Conv2d(16, 32, kernel_size=(3, 3), stride=(1, 1), padding=(1, 1))\n",
       "    (1): Self_Attn(\n",
       "      (query_conv): Conv2d(32, 4, kernel_size=(1, 1), stride=(1, 1))\n",
       "      (key_conv): Conv2d(32, 4, kernel_size=(1, 1), stride=(1, 1))\n",
       "      (value_conv): Conv2d(32, 32, kernel_size=(1, 1), stride=(1, 1))\n",
       "      (softmax): Softmax()\n",
       "    )\n",
       "    (2): ReLU()\n",
       "    (3): BatchNorm2d(32, eps=1e-05, momentum=0.1, affine=True, track_running_stats=True)\n",
       "    (4): MaxPool2d(kernel_size=2, stride=2, padding=0, dilation=1, ceil_mode=False)\n",
       "  )\n",
       "  (fc1): Linear(in_features=4096, out_features=128, bias=True)\n",
       "  (fc2): Linear(in_features=128, out_features=751, bias=True)\n",
       ")"
      ]
     },
     "execution_count": 83,
     "metadata": {},
     "output_type": "execute_result"
    }
   ],
   "source": [
    "model = CNN_ReID_SAGAN()\n",
    "model.load_state_dict(torch.load(\"model_Test_SAGAN_MAP_2.ckpt\"))\n",
    "model.eval()"
   ]
  },
  {
   "cell_type": "code",
   "execution_count": 84,
   "metadata": {},
   "outputs": [],
   "source": [
    "test_loader = load_test_dataset(dist_market_path_test, batch_size=1, shuffle=False)\n",
    "query_loader = load_test_dataset(dist_market_path_query, batch_size=1, shuffle=False)"
   ]
  },
  {
   "cell_type": "code",
   "execution_count": 87,
   "metadata": {},
   "outputs": [
    {
     "name": "stdout",
     "output_type": "stream",
     "text": [
      "Waiting output from test_loader...\n",
      "Waiting output from query_loader...\n",
      "Waiting mAP...\n"
     ]
    },
    {
     "data": {
      "application/vnd.jupyter.widget-view+json": {
       "model_id": "c4fdadfa62fd4a47a32463833999021d",
       "version_major": 2,
       "version_minor": 0
      },
      "text/plain": [
       "HBox(children=(IntProgress(value=0, max=3368), HTML(value='')))"
      ]
     },
     "metadata": {},
     "output_type": "display_data"
    },
    {
     "name": "stdout",
     "output_type": "stream",
     "text": [
      "\n"
     ]
    },
    {
     "data": {
      "text/plain": [
       "0.293543308106282"
      ]
     },
     "execution_count": 87,
     "metadata": {},
     "output_type": "execute_result"
    }
   ],
   "source": [
    "test_model(model=model, test_loader=test_loader, query_loader=query_loader, path_=\"data/testClasses/\", v=True)"
   ]
  },
  {
   "cell_type": "markdown",
   "metadata": {},
   "source": [
    "### model_Test_SAGAN_MAP_3.ckpt"
   ]
  },
  {
   "cell_type": "code",
   "execution_count": 88,
   "metadata": {},
   "outputs": [
    {
     "data": {
      "text/plain": [
       "CNN_ReID_SAGAN(\n",
       "  (layer1): Sequential(\n",
       "    (0): Conv2d(3, 8, kernel_size=(3, 3), stride=(1, 1), padding=(1, 1))\n",
       "    (1): ReLU()\n",
       "    (2): BatchNorm2d(8, eps=1e-05, momentum=0.1, affine=True, track_running_stats=True)\n",
       "    (3): MaxPool2d(kernel_size=2, stride=2, padding=0, dilation=1, ceil_mode=False)\n",
       "  )\n",
       "  (layer2): Sequential(\n",
       "    (0): Conv2d(8, 16, kernel_size=(3, 3), stride=(1, 1), padding=(1, 1))\n",
       "    (1): ReLU()\n",
       "    (2): BatchNorm2d(16, eps=1e-05, momentum=0.1, affine=True, track_running_stats=True)\n",
       "    (3): MaxPool2d(kernel_size=2, stride=2, padding=0, dilation=1, ceil_mode=False)\n",
       "  )\n",
       "  (layer3): Sequential(\n",
       "    (0): Conv2d(16, 32, kernel_size=(3, 3), stride=(1, 1), padding=(1, 1))\n",
       "    (1): Self_Attn(\n",
       "      (query_conv): Conv2d(32, 4, kernel_size=(1, 1), stride=(1, 1))\n",
       "      (key_conv): Conv2d(32, 4, kernel_size=(1, 1), stride=(1, 1))\n",
       "      (value_conv): Conv2d(32, 32, kernel_size=(1, 1), stride=(1, 1))\n",
       "      (softmax): Softmax()\n",
       "    )\n",
       "    (2): ReLU()\n",
       "    (3): BatchNorm2d(32, eps=1e-05, momentum=0.1, affine=True, track_running_stats=True)\n",
       "    (4): MaxPool2d(kernel_size=2, stride=2, padding=0, dilation=1, ceil_mode=False)\n",
       "  )\n",
       "  (fc1): Linear(in_features=4096, out_features=128, bias=True)\n",
       "  (fc2): Linear(in_features=128, out_features=751, bias=True)\n",
       ")"
      ]
     },
     "execution_count": 88,
     "metadata": {},
     "output_type": "execute_result"
    }
   ],
   "source": [
    "model = CNN_ReID_SAGAN()\n",
    "model.load_state_dict(torch.load(\"model_Test_SAGAN_MAP_3.ckpt\"))\n",
    "model.eval()"
   ]
  },
  {
   "cell_type": "code",
   "execution_count": 89,
   "metadata": {},
   "outputs": [
    {
     "name": "stdout",
     "output_type": "stream",
     "text": [
      "Waiting output from test_loader...\n",
      "Waiting output from query_loader...\n",
      "Waiting mAP...\n"
     ]
    },
    {
     "data": {
      "application/vnd.jupyter.widget-view+json": {
       "model_id": "c714444aa8f94e97b56ebcf8eb1b315b",
       "version_major": 2,
       "version_minor": 0
      },
      "text/plain": [
       "HBox(children=(IntProgress(value=0, max=3368), HTML(value='')))"
      ]
     },
     "metadata": {},
     "output_type": "display_data"
    },
    {
     "name": "stdout",
     "output_type": "stream",
     "text": [
      "\n"
     ]
    },
    {
     "data": {
      "text/plain": [
       "0.27169232904932383"
      ]
     },
     "execution_count": 89,
     "metadata": {},
     "output_type": "execute_result"
    }
   ],
   "source": [
    "test_model(model=model, test_loader=test_loader, query_loader=query_loader, path_=\"data/testClasses/\", v=True)"
   ]
  },
  {
   "cell_type": "markdown",
   "metadata": {},
   "source": [
    "### model_Test_SAGAN_MAP_4.ckpt"
   ]
  },
  {
   "cell_type": "code",
   "execution_count": 90,
   "metadata": {},
   "outputs": [
    {
     "data": {
      "text/plain": [
       "CNN_ReID_SAGAN(\n",
       "  (layer1): Sequential(\n",
       "    (0): Conv2d(3, 8, kernel_size=(3, 3), stride=(1, 1), padding=(1, 1))\n",
       "    (1): ReLU()\n",
       "    (2): BatchNorm2d(8, eps=1e-05, momentum=0.1, affine=True, track_running_stats=True)\n",
       "    (3): MaxPool2d(kernel_size=2, stride=2, padding=0, dilation=1, ceil_mode=False)\n",
       "  )\n",
       "  (layer2): Sequential(\n",
       "    (0): Conv2d(8, 16, kernel_size=(3, 3), stride=(1, 1), padding=(1, 1))\n",
       "    (1): ReLU()\n",
       "    (2): BatchNorm2d(16, eps=1e-05, momentum=0.1, affine=True, track_running_stats=True)\n",
       "    (3): MaxPool2d(kernel_size=2, stride=2, padding=0, dilation=1, ceil_mode=False)\n",
       "  )\n",
       "  (layer3): Sequential(\n",
       "    (0): Conv2d(16, 32, kernel_size=(3, 3), stride=(1, 1), padding=(1, 1))\n",
       "    (1): Self_Attn(\n",
       "      (query_conv): Conv2d(32, 4, kernel_size=(1, 1), stride=(1, 1))\n",
       "      (key_conv): Conv2d(32, 4, kernel_size=(1, 1), stride=(1, 1))\n",
       "      (value_conv): Conv2d(32, 32, kernel_size=(1, 1), stride=(1, 1))\n",
       "      (softmax): Softmax()\n",
       "    )\n",
       "    (2): ReLU()\n",
       "    (3): BatchNorm2d(32, eps=1e-05, momentum=0.1, affine=True, track_running_stats=True)\n",
       "    (4): MaxPool2d(kernel_size=2, stride=2, padding=0, dilation=1, ceil_mode=False)\n",
       "  )\n",
       "  (fc1): Linear(in_features=4096, out_features=128, bias=True)\n",
       "  (fc2): Linear(in_features=128, out_features=751, bias=True)\n",
       ")"
      ]
     },
     "execution_count": 90,
     "metadata": {},
     "output_type": "execute_result"
    }
   ],
   "source": [
    "model = CNN_ReID_SAGAN()\n",
    "model.load_state_dict(torch.load(\"model_Test_SAGAN_MAP_4.ckpt\"))\n",
    "model.eval()"
   ]
  },
  {
   "cell_type": "code",
   "execution_count": 91,
   "metadata": {},
   "outputs": [
    {
     "name": "stdout",
     "output_type": "stream",
     "text": [
      "Waiting output from test_loader...\n",
      "Waiting output from query_loader...\n",
      "Waiting mAP...\n"
     ]
    },
    {
     "data": {
      "application/vnd.jupyter.widget-view+json": {
       "model_id": "08af91c5d6ca44aa828a9c461e13864d",
       "version_major": 2,
       "version_minor": 0
      },
      "text/plain": [
       "HBox(children=(IntProgress(value=0, max=3368), HTML(value='')))"
      ]
     },
     "metadata": {},
     "output_type": "display_data"
    },
    {
     "name": "stdout",
     "output_type": "stream",
     "text": [
      "\n"
     ]
    },
    {
     "data": {
      "text/plain": [
       "0.2929243130455769"
      ]
     },
     "execution_count": 91,
     "metadata": {},
     "output_type": "execute_result"
    }
   ],
   "source": [
    "test_model(model=model, test_loader=test_loader, query_loader=query_loader, path_=\"data/testClasses/\", v=True)"
   ]
  },
  {
   "cell_type": "markdown",
   "metadata": {},
   "source": [
    "### model_Test_MAP_2.ckpt"
   ]
  },
  {
   "cell_type": "code",
   "execution_count": 92,
   "metadata": {},
   "outputs": [
    {
     "data": {
      "text/plain": [
       "CNN_ReID(\n",
       "  (layer1): Sequential(\n",
       "    (0): Conv2d(3, 8, kernel_size=(3, 3), stride=(1, 1), padding=(1, 1))\n",
       "    (1): ReLU()\n",
       "    (2): BatchNorm2d(8, eps=1e-05, momentum=0.1, affine=True, track_running_stats=True)\n",
       "    (3): MaxPool2d(kernel_size=2, stride=2, padding=0, dilation=1, ceil_mode=False)\n",
       "  )\n",
       "  (layer2): Sequential(\n",
       "    (0): Conv2d(8, 16, kernel_size=(3, 3), stride=(1, 1), padding=(1, 1))\n",
       "    (1): ReLU()\n",
       "    (2): BatchNorm2d(16, eps=1e-05, momentum=0.1, affine=True, track_running_stats=True)\n",
       "    (3): MaxPool2d(kernel_size=2, stride=2, padding=0, dilation=1, ceil_mode=False)\n",
       "  )\n",
       "  (layer3): Sequential(\n",
       "    (0): Conv2d(16, 32, kernel_size=(3, 3), stride=(1, 1), padding=(1, 1))\n",
       "    (1): ReLU()\n",
       "    (2): BatchNorm2d(32, eps=1e-05, momentum=0.1, affine=True, track_running_stats=True)\n",
       "    (3): MaxPool2d(kernel_size=2, stride=2, padding=0, dilation=1, ceil_mode=False)\n",
       "  )\n",
       "  (fc1): Linear(in_features=4096, out_features=128, bias=True)\n",
       "  (fc2): Linear(in_features=128, out_features=751, bias=True)\n",
       ")"
      ]
     },
     "execution_count": 92,
     "metadata": {},
     "output_type": "execute_result"
    }
   ],
   "source": [
    "model = CNN_ReID()\n",
    "model.load_state_dict(torch.load(\"model_Test_MAP_2.ckpt\"))\n",
    "model.eval()"
   ]
  },
  {
   "cell_type": "code",
   "execution_count": 93,
   "metadata": {},
   "outputs": [
    {
     "name": "stdout",
     "output_type": "stream",
     "text": [
      "Waiting output from test_loader...\n",
      "Waiting output from query_loader...\n",
      "Waiting mAP...\n"
     ]
    },
    {
     "data": {
      "application/vnd.jupyter.widget-view+json": {
       "model_id": "7e092a63cf0a440ea44ec30e3ef5137b",
       "version_major": 2,
       "version_minor": 0
      },
      "text/plain": [
       "HBox(children=(IntProgress(value=0, max=3368), HTML(value='')))"
      ]
     },
     "metadata": {},
     "output_type": "display_data"
    },
    {
     "name": "stdout",
     "output_type": "stream",
     "text": [
      "\n"
     ]
    },
    {
     "data": {
      "text/plain": [
       "0.30609234937164664"
      ]
     },
     "execution_count": 93,
     "metadata": {},
     "output_type": "execute_result"
    }
   ],
   "source": [
    "test_model(model=model, test_loader=test_loader, query_loader=query_loader, path_=\"data/testClasses/\", v=True)"
   ]
  },
  {
   "cell_type": "markdown",
   "metadata": {},
   "source": [
    "### model_Test_MAP_3.ckpt"
   ]
  },
  {
   "cell_type": "code",
   "execution_count": 94,
   "metadata": {},
   "outputs": [
    {
     "data": {
      "text/plain": [
       "CNN_ReID(\n",
       "  (layer1): Sequential(\n",
       "    (0): Conv2d(3, 8, kernel_size=(3, 3), stride=(1, 1), padding=(1, 1))\n",
       "    (1): ReLU()\n",
       "    (2): BatchNorm2d(8, eps=1e-05, momentum=0.1, affine=True, track_running_stats=True)\n",
       "    (3): MaxPool2d(kernel_size=2, stride=2, padding=0, dilation=1, ceil_mode=False)\n",
       "  )\n",
       "  (layer2): Sequential(\n",
       "    (0): Conv2d(8, 16, kernel_size=(3, 3), stride=(1, 1), padding=(1, 1))\n",
       "    (1): ReLU()\n",
       "    (2): BatchNorm2d(16, eps=1e-05, momentum=0.1, affine=True, track_running_stats=True)\n",
       "    (3): MaxPool2d(kernel_size=2, stride=2, padding=0, dilation=1, ceil_mode=False)\n",
       "  )\n",
       "  (layer3): Sequential(\n",
       "    (0): Conv2d(16, 32, kernel_size=(3, 3), stride=(1, 1), padding=(1, 1))\n",
       "    (1): ReLU()\n",
       "    (2): BatchNorm2d(32, eps=1e-05, momentum=0.1, affine=True, track_running_stats=True)\n",
       "    (3): MaxPool2d(kernel_size=2, stride=2, padding=0, dilation=1, ceil_mode=False)\n",
       "  )\n",
       "  (fc1): Linear(in_features=4096, out_features=128, bias=True)\n",
       "  (fc2): Linear(in_features=128, out_features=751, bias=True)\n",
       ")"
      ]
     },
     "execution_count": 94,
     "metadata": {},
     "output_type": "execute_result"
    }
   ],
   "source": [
    "model = CNN_ReID()\n",
    "model.load_state_dict(torch.load(\"model_Test_MAP_3.ckpt\"))\n",
    "model.eval()"
   ]
  },
  {
   "cell_type": "code",
   "execution_count": 95,
   "metadata": {},
   "outputs": [
    {
     "name": "stdout",
     "output_type": "stream",
     "text": [
      "Waiting output from test_loader...\n",
      "Waiting output from query_loader...\n",
      "Waiting mAP...\n"
     ]
    },
    {
     "data": {
      "application/vnd.jupyter.widget-view+json": {
       "model_id": "00564947fb8443d2bab37038dedaa5eb",
       "version_major": 2,
       "version_minor": 0
      },
      "text/plain": [
       "HBox(children=(IntProgress(value=0, max=3368), HTML(value='')))"
      ]
     },
     "metadata": {},
     "output_type": "display_data"
    },
    {
     "name": "stdout",
     "output_type": "stream",
     "text": [
      "\n"
     ]
    },
    {
     "data": {
      "text/plain": [
       "0.19714548518819736"
      ]
     },
     "execution_count": 95,
     "metadata": {},
     "output_type": "execute_result"
    }
   ],
   "source": [
    "test_model(model=model, test_loader=test_loader, query_loader=query_loader, path_=\"data/testClasses/\", v=True)"
   ]
  },
  {
   "cell_type": "markdown",
   "metadata": {},
   "source": [
    "### model_Test_MAP_4.ckpt"
   ]
  },
  {
   "cell_type": "code",
   "execution_count": 96,
   "metadata": {},
   "outputs": [
    {
     "data": {
      "text/plain": [
       "CNN_ReID(\n",
       "  (layer1): Sequential(\n",
       "    (0): Conv2d(3, 8, kernel_size=(3, 3), stride=(1, 1), padding=(1, 1))\n",
       "    (1): ReLU()\n",
       "    (2): BatchNorm2d(8, eps=1e-05, momentum=0.1, affine=True, track_running_stats=True)\n",
       "    (3): MaxPool2d(kernel_size=2, stride=2, padding=0, dilation=1, ceil_mode=False)\n",
       "  )\n",
       "  (layer2): Sequential(\n",
       "    (0): Conv2d(8, 16, kernel_size=(3, 3), stride=(1, 1), padding=(1, 1))\n",
       "    (1): ReLU()\n",
       "    (2): BatchNorm2d(16, eps=1e-05, momentum=0.1, affine=True, track_running_stats=True)\n",
       "    (3): MaxPool2d(kernel_size=2, stride=2, padding=0, dilation=1, ceil_mode=False)\n",
       "  )\n",
       "  (layer3): Sequential(\n",
       "    (0): Conv2d(16, 32, kernel_size=(3, 3), stride=(1, 1), padding=(1, 1))\n",
       "    (1): ReLU()\n",
       "    (2): BatchNorm2d(32, eps=1e-05, momentum=0.1, affine=True, track_running_stats=True)\n",
       "    (3): MaxPool2d(kernel_size=2, stride=2, padding=0, dilation=1, ceil_mode=False)\n",
       "  )\n",
       "  (fc1): Linear(in_features=4096, out_features=128, bias=True)\n",
       "  (fc2): Linear(in_features=128, out_features=751, bias=True)\n",
       ")"
      ]
     },
     "execution_count": 96,
     "metadata": {},
     "output_type": "execute_result"
    }
   ],
   "source": [
    "model = CNN_ReID()\n",
    "model.load_state_dict(torch.load(\"model_Test_MAP_4.ckpt\"))\n",
    "model.eval()"
   ]
  },
  {
   "cell_type": "code",
   "execution_count": 97,
   "metadata": {},
   "outputs": [
    {
     "name": "stdout",
     "output_type": "stream",
     "text": [
      "Waiting output from test_loader...\n",
      "Waiting output from query_loader...\n",
      "Waiting mAP...\n"
     ]
    },
    {
     "data": {
      "application/vnd.jupyter.widget-view+json": {
       "model_id": "d389772c24934a3f81cb3e5cd761ccef",
       "version_major": 2,
       "version_minor": 0
      },
      "text/plain": [
       "HBox(children=(IntProgress(value=0, max=3368), HTML(value='')))"
      ]
     },
     "metadata": {},
     "output_type": "display_data"
    },
    {
     "name": "stdout",
     "output_type": "stream",
     "text": [
      "\n"
     ]
    },
    {
     "data": {
      "text/plain": [
       "0.24769193554996904"
      ]
     },
     "execution_count": 97,
     "metadata": {},
     "output_type": "execute_result"
    }
   ],
   "source": [
    "test_model(model=model, test_loader=test_loader, query_loader=query_loader, path_=\"data/testClasses/\", v=True)"
   ]
  }
 ],
 "metadata": {
  "kernelspec": {
   "display_name": "Python 3",
   "language": "python",
   "name": "python3"
  },
  "language_info": {
   "codemirror_mode": {
    "name": "ipython",
    "version": 3
   },
   "file_extension": ".py",
   "mimetype": "text/x-python",
   "name": "python",
   "nbconvert_exporter": "python",
   "pygments_lexer": "ipython3",
   "version": "3.7.1"
  }
 },
 "nbformat": 4,
 "nbformat_minor": 2
}
