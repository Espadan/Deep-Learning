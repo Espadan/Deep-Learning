{
 "cells": [
  {
   "cell_type": "code",
   "execution_count": 5,
   "metadata": {},
   "outputs": [],
   "source": [
    "import os\n",
    "import shutil\n",
    "from PIL import Image\n",
    "import numpy as np\n",
    "import random\n",
    "from tqdm import tqdm_notebook"
   ]
  },
  {
   "cell_type": "code",
   "execution_count": 6,
   "metadata": {},
   "outputs": [],
   "source": [
    "dir_ = \"data\"\n",
    "market_path_train = \"/Market-1501-v15.09.15/bounding_box_train\"\n",
    "market_path_test = \"/Market-1501-v15.09.15/bounding_box_test\"\n",
    "dist_market_path_train = \"/trainClasses\"\n",
    "dist_market_path_test = \"/testClasses\"\n",
    "dist_market_path_smallTest = \"/smallTest\"\n",
    "files_train = os.listdir(dir_ + market_path_train)\n",
    "files_test = os.listdir(dir_ + market_path_test)"
   ]
  },
  {
   "cell_type": "code",
   "execution_count": 20,
   "metadata": {},
   "outputs": [],
   "source": [
    "for file in files_train:\n",
    "    path_ = dir_ + dist_market_path_train + '/' + file.split('_')[0]\n",
    "    if not os.path.exists(path_):\n",
    "        os.makedirs(path_)\n",
    "    shutil.copy(dir_ + market_path_train + '/' + file, path_ + '/' + file)\n",
    "    \n",
    "for file in files_test:\n",
    "    path_ = dir_ + dist_market_path_test + '/' + file.split('_')[0]\n",
    "    if not os.path.exists(path_):\n",
    "        os.makedirs(path_)\n",
    "    shutil.copy(dir_ + market_path_test + '/' + file, path_ + '/' + file)"
   ]
  },
  {
   "cell_type": "code",
   "execution_count": 23,
   "metadata": {},
   "outputs": [],
   "source": [
    "for i, name in enumerate(os.listdir(dir_ + dist_market_path_train)):\n",
    "    os.rename(dir_ + dist_market_path_train + '/' + name, dir_ + dist_market_path_train + '/' + str(i))"
   ]
  },
  {
   "cell_type": "code",
   "execution_count": 10,
   "metadata": {},
   "outputs": [],
   "source": [
    "for i, name in enumerate(os.listdir(dir_ + dist_market_path_smallTest)):\n",
    "    os.rename(dir_ + dist_market_path_smallTest + '/' + name, dir_ + dist_market_path_smallTest + '/' + str(\"{:04d}\".format(i)))"
   ]
  }
 ],
 "metadata": {
  "kernelspec": {
   "display_name": "Python 3",
   "language": "python",
   "name": "python3"
  },
  "language_info": {
   "codemirror_mode": {
    "name": "ipython",
    "version": 3
   },
   "file_extension": ".py",
   "mimetype": "text/x-python",
   "name": "python",
   "nbconvert_exporter": "python",
   "pygments_lexer": "ipython3",
   "version": "3.7.1"
  }
 },
 "nbformat": 4,
 "nbformat_minor": 2
}
