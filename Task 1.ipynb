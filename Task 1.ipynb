{
 "cells": [
  {
   "cell_type": "code",
   "execution_count": 1,
   "metadata": {},
   "outputs": [],
   "source": [
    "import os\n",
    "import shutil\n",
    "from PIL import Image\n",
    "import numpy as np\n",
    "import random\n",
    "from tqdm import tqdm_notebook"
   ]
  },
  {
   "cell_type": "code",
   "execution_count": null,
   "metadata": {},
   "outputs": [],
   "source": []
  },
  {
   "cell_type": "code",
   "execution_count": 2,
   "metadata": {},
   "outputs": [],
   "source": [
    "dir_ = \"data\"\n",
    "market_path_train = \"/Market-1501-v15.09.15/bounding_box_train\"\n",
    "market_path_test = \"/Market-1501-v15.09.15/bounding_box_test\"\n",
    "dist_market_path_train = \"/train\"\n",
    "dist_market_path_test = \"/test\"\n",
    "files_train = os.listdir(dir_ + market_path_train)\n",
    "files_test = os.listdir(dir_ + market_path_test)"
   ]
  },
  {
   "cell_type": "code",
   "execution_count": 3,
   "metadata": {},
   "outputs": [],
   "source": [
    "for file in files_train:\n",
    "    path_ = dir_ + dist_market_path_train + '/' + file.split('_')[0]\n",
    "    if not os.path.exists(path_):\n",
    "        os.makedirs(path_)\n",
    "    shutil.copy(dir_ + market_path_train + '/' + file, path_ + '/' + file)\n",
    "    \n",
    "for file in files_test:\n",
    "    path_ = dir_ + dist_market_path_test + '/' + file.split('_')[0]\n",
    "    if not os.path.exists(path_):\n",
    "        os.makedirs(path_)\n",
    "    shutil.copy(dir_ + market_path_test + '/' + file, path_ + '/' + file)"
   ]
  },
  {
   "cell_type": "code",
   "execution_count": null,
   "metadata": {},
   "outputs": [],
   "source": []
  },
  {
   "cell_type": "code",
   "execution_count": null,
   "metadata": {},
   "outputs": [],
   "source": []
  },
  {
   "cell_type": "markdown",
   "metadata": {},
   "source": [
    "### Metrics:\n",
    "##### 1) Precision\n",
    "##### 2) Recall\n",
    "##### 3) AUC-ROC\n",
    "отношение между \n",
    "TPR = TP / (TP + FN) и\n",
    "FPR = FP / (FP + TN)\n",
    "##### 4) mAP\n",
    "отношение между\n",
    "Precision и\n",
    "Recall"
   ]
  },
  {
   "cell_type": "code",
   "execution_count": 173,
   "metadata": {},
   "outputs": [],
   "source": [
    "len_per = 0.7\n",
    "len_train = int(len(list_all)*len_per)\n",
    "train = list_all[0:len_train]\n",
    "test = list_all[len_train:len(list_all)]"
   ]
  },
  {
   "cell_type": "code",
   "execution_count": 174,
   "metadata": {},
   "outputs": [
    {
     "name": "stdout",
     "output_type": "stream",
     "text": [
      "7699 3301 11000\n"
     ]
    }
   ],
   "source": [
    "print(len(train), len(test), len(train)+len(test))"
   ]
  }
 ],
 "metadata": {
  "kernelspec": {
   "display_name": "Python 3",
   "language": "python",
   "name": "python3"
  },
  "language_info": {
   "codemirror_mode": {
    "name": "ipython",
    "version": 3
   },
   "file_extension": ".py",
   "mimetype": "text/x-python",
   "name": "python",
   "nbconvert_exporter": "python",
   "pygments_lexer": "ipython3",
   "version": "3.7.1"
  }
 },
 "nbformat": 4,
 "nbformat_minor": 2
}
